{
 "cells": [
  {
   "cell_type": "code",
   "execution_count": 1,
   "metadata": {},
   "outputs": [],
   "source": [
    "import sympy.vector as sv\n",
    "import sympy as sp\n",
    "import plotly.graph_objects as go\n",
    "import pandas as pd\n",
    "import numpy as np"
   ]
  },
  {
   "cell_type": "code",
   "execution_count": 22,
   "metadata": {},
   "outputs": [],
   "source": [
    "def vector(x ,y ,u, v, rt1 = 0.1, rt2 = 1/3, fig=False, color = 'black', showgrid = True, zeroline=True, lw=3):\n",
    "    \n",
    "    '''\n",
    "    (x,y): initial point of the vector\n",
    "    (u ,v): the projection of the vector along x and y axis\n",
    "    \n",
    "    \n",
    "    The ideia of the below function is as follow. First, we write the parametric equation for the segment of \n",
    "    the line that pass through $(0,0)$ and $(x_0, y_0)$. It is \n",
    "    $$\n",
    "    \\vec r(t) = \\begin{cases}\n",
    "    x = (x_1 - x_0) t + x_0 \\\\\n",
    "    y = (y_1 - y_0) t + y_0\n",
    "    \\end{cases}\n",
    "     = \n",
    "     \\begin{cases}\n",
    "    x = a t + x_0 \\\\\n",
    "    y = b t + y_0\n",
    "    \\end{cases}\n",
    "    $$\n",
    "    Then using the variable *rt1* we decide about the proportion of the head of the vector em relation to \n",
    "    the total length of vector. The variable *rt2* is about the proportion of the base \n",
    "    of the triangle em relation to its altitude. *l* is the total length of the vector. *t = 1-ratio1* is the \n",
    "    parameter of the line $\\vec r(t)$ that the base of the head is located, \n",
    "    we call this point as $(\\hat x , \\hat y)$. Through this point, perpendicular to the $\\vec r$ passes \n",
    "    another line that is base of the head. The equation of this line is \n",
    "    $$\n",
    "    \\vec{r^\\prime} = \\begin{cases}\n",
    "    x = b s + \\hat x \\\\\n",
    "    y = -a s + \\hat y\n",
    "    \\end{cases}\n",
    "    $$\n",
    "    Now we want to find other two corners of the head, beside $(x_0,y_0)$. These two points are located of \n",
    "    the both side of $(\\hat x , \\hat y)$ with the distance $\\frac{lenght2}{2}$. \n",
    "    The value of parameter $s$ associated with these points is $\\hat s = \\pm \\frac{length2}{2 l}$. \n",
    "    So these two points are \n",
    "    $(b \\hat s +\\hat x, -a \\hat s + \\hat y)$ and $(-b \\hat s +\\hat x, a \\hat s +\\hat y)$.\n",
    "    \n",
    "    Example:\n",
    "    ========\n",
    "    R = sv.CoordSys3D(\"R\")\n",
    "    x,y,z = sp.symbols('x y z')\n",
    "    def field1(x,y): return -y*R.i + x*R.j\n",
    "    xx, yy = np.mgrid[-5:5:5j, -5:5:5j]\n",
    "    field1_np = sp.lambdify([x,y], list(field1(x,y).components.values()), 'numpy')\n",
    "    u,v = field1_np(xx,yy)\n",
    "    f = vector(x=xx.flatten(),y=yy.flatten(), u=u.flatten(), v=v.flatten())\n",
    "    '''\n",
    "    df = pd.DataFrame(columns=['x','y'])\n",
    "\n",
    "    for x_0,u,y_0,v in zip(x,u,y,v):\n",
    "        x_1 = x_0 + u\n",
    "        y_1 = y_0 + v\n",
    "\n",
    "        a = x_1 - x_0\n",
    "        b = y_1 - y_0\n",
    "        \n",
    "        l = np.sqrt(a**2 + b**2)\n",
    "        length1 = rt1 *l\n",
    "        length2 = rt2 * length1\n",
    "\n",
    "        t = (1-rt1)\n",
    "        x_bar , y_bar = a * t + x_0, b * t + y_0\n",
    "        \n",
    "        s_bar = length2/(2*l)\n",
    "\n",
    "        x_11 = b*s_bar+x_bar\n",
    "        x_12 = -b*s_bar+x_bar\n",
    "        y_11 = -a*s_bar +y_bar\n",
    "        y_12 = a*s_bar+y_bar\n",
    "\n",
    "        df = df.append({'x':x_1, 'y':y_1}, ignore_index=True)\n",
    "        df = df.append({'x':x_11, 'y':y_11}, ignore_index=True)\n",
    "        df = df.append({'x':x_12, 'y':y_12}, ignore_index=True)\n",
    "        df = df.append({'x':x_1, 'y':y_1}, ignore_index=True)\n",
    "        df = df.append({'x':None, 'y':None}, ignore_index=True)\n",
    "        df = df.append({'x':x_0, 'y':y_0}, ignore_index=True)\n",
    "        df = df.append({'x':x_bar, 'y':y_bar}, ignore_index=True)\n",
    "        df = df.append({'x':None, 'y':None}, ignore_index=True)\n",
    "    \n",
    "    if fig==False:\n",
    "        fig = go.Figure()\n",
    "        fig.add_scatter(x = df.x, y=df.y,fill='toself', mode = 'lines', opacity=1,line_color = color, line_width=lw)\n",
    "        fig.update_layout(yaxis=dict(scaleanchor=\"x\", scaleratio=1),showlegend = False)\n",
    "        fig.update_xaxes(showgrid=showgrid, zeroline=zeroline)\n",
    "        fig.update_yaxes(showgrid=showgrid, zeroline=zeroline)\n",
    "        fig.show()\n",
    "    else:\n",
    "        fig.add_scatter(x = df.x, y=df.y,fill='toself', mode = 'lines', opacity=1,line_color = color, line_width=lw)\n",
    "        fig.update_layout(yaxis=dict(scaleanchor=\"x\", scaleratio=1),showlegend = False)\n",
    "        fig.update_xaxes(showgrid=showgrid, zeroline=zeroline)\n",
    "        fig.update_yaxes(showgrid=showgrid, zeroline=zeroline)"
   ]
  },
  {
   "cell_type": "code",
   "execution_count": 3,
   "metadata": {},
   "outputs": [],
   "source": [
    "R = sv.CoordSys3D(\"R\")"
   ]
  },
  {
   "cell_type": "code",
   "execution_count": 4,
   "metadata": {},
   "outputs": [],
   "source": [
    "x,y,z = sp.symbols('x y z')"
   ]
  },
  {
   "cell_type": "code",
   "execution_count": 5,
   "metadata": {},
   "outputs": [],
   "source": [
    "def field1(x,y): return -y*R.i + x*R.j"
   ]
  },
  {
   "cell_type": "code",
   "execution_count": 28,
   "metadata": {},
   "outputs": [],
   "source": [
    "xx, yy = np.mgrid[-5:5:5j, -5:5:5j]"
   ]
  },
  {
   "cell_type": "code",
   "execution_count": 29,
   "metadata": {},
   "outputs": [],
   "source": [
    "field1_np = sp.lambdify([x,y], list(field1(x,y).components.values()), 'numpy')"
   ]
  },
  {
   "cell_type": "code",
   "execution_count": 30,
   "metadata": {},
   "outputs": [],
   "source": [
    "u,v = field1_np(xx,yy)"
   ]
  },
  {
   "cell_type": "code",
   "execution_count": 31,
   "metadata": {},
   "outputs": [
    {
     "data": {
      "text/plain": [
       "array([-5. , -5. , -5. , -5. , -5. , -2.5, -2.5, -2.5, -2.5, -2.5,  0. ,\n",
       "        0. ,  0. ,  0. ,  0. ,  2.5,  2.5,  2.5,  2.5,  2.5,  5. ,  5. ,\n",
       "        5. ,  5. ,  5. ])"
      ]
     },
     "execution_count": 31,
     "metadata": {},
     "output_type": "execute_result"
    }
   ],
   "source": [
    "xx.flatten()"
   ]
  },
  {
   "cell_type": "code",
   "execution_count": 32,
   "metadata": {},
   "outputs": [
    {
     "data": {
      "text/plain": [
       "array([[ 5. ,  2.5, -0. , -2.5, -5. ],\n",
       "       [ 5. ,  2.5, -0. , -2.5, -5. ],\n",
       "       [ 5. ,  2.5, -0. , -2.5, -5. ],\n",
       "       [ 5. ,  2.5, -0. , -2.5, -5. ],\n",
       "       [ 5. ,  2.5, -0. , -2.5, -5. ]])"
      ]
     },
     "execution_count": 32,
     "metadata": {},
     "output_type": "execute_result"
    }
   ],
   "source": [
    "u"
   ]
  },
  {
   "cell_type": "code",
   "execution_count": 33,
   "metadata": {},
   "outputs": [
    {
     "name": "stderr",
     "output_type": "stream",
     "text": [
      "/home/vahid/miniconda3/lib/python3.7/site-packages/ipykernel_launcher.py:56: RuntimeWarning:\n",
      "\n",
      "invalid value encountered in double_scalars\n",
      "\n"
     ]
    },
    {
     "data": {
      "text/html": [
       "<div>\n",
       "<style scoped>\n",
       "    .dataframe tbody tr th:only-of-type {\n",
       "        vertical-align: middle;\n",
       "    }\n",
       "\n",
       "    .dataframe tbody tr th {\n",
       "        vertical-align: top;\n",
       "    }\n",
       "\n",
       "    .dataframe thead th {\n",
       "        text-align: right;\n",
       "    }\n",
       "</style>\n",
       "<table border=\"1\" class=\"dataframe\">\n",
       "  <thead>\n",
       "    <tr style=\"text-align: right;\">\n",
       "      <th></th>\n",
       "      <th>x</th>\n",
       "      <th>y</th>\n",
       "    </tr>\n",
       "  </thead>\n",
       "  <tbody>\n",
       "    <tr>\n",
       "      <th>0</th>\n",
       "      <td>0.000000</td>\n",
       "      <td>-10.000000</td>\n",
       "    </tr>\n",
       "    <tr>\n",
       "      <th>1</th>\n",
       "      <td>-0.583333</td>\n",
       "      <td>-9.583333</td>\n",
       "    </tr>\n",
       "    <tr>\n",
       "      <th>2</th>\n",
       "      <td>-0.416667</td>\n",
       "      <td>-9.416667</td>\n",
       "    </tr>\n",
       "    <tr>\n",
       "      <th>3</th>\n",
       "      <td>0.000000</td>\n",
       "      <td>-10.000000</td>\n",
       "    </tr>\n",
       "    <tr>\n",
       "      <th>4</th>\n",
       "      <td>NaN</td>\n",
       "      <td>NaN</td>\n",
       "    </tr>\n",
       "    <tr>\n",
       "      <th>...</th>\n",
       "      <td>...</td>\n",
       "      <td>...</td>\n",
       "    </tr>\n",
       "    <tr>\n",
       "      <th>195</th>\n",
       "      <td>0.000000</td>\n",
       "      <td>10.000000</td>\n",
       "    </tr>\n",
       "    <tr>\n",
       "      <th>196</th>\n",
       "      <td>NaN</td>\n",
       "      <td>NaN</td>\n",
       "    </tr>\n",
       "    <tr>\n",
       "      <th>197</th>\n",
       "      <td>5.000000</td>\n",
       "      <td>5.000000</td>\n",
       "    </tr>\n",
       "    <tr>\n",
       "      <th>198</th>\n",
       "      <td>0.500000</td>\n",
       "      <td>9.500000</td>\n",
       "    </tr>\n",
       "    <tr>\n",
       "      <th>199</th>\n",
       "      <td>NaN</td>\n",
       "      <td>NaN</td>\n",
       "    </tr>\n",
       "  </tbody>\n",
       "</table>\n",
       "<p>200 rows × 2 columns</p>\n",
       "</div>"
      ],
      "text/plain": [
       "            x          y\n",
       "0    0.000000 -10.000000\n",
       "1   -0.583333  -9.583333\n",
       "2   -0.416667  -9.416667\n",
       "3    0.000000 -10.000000\n",
       "4         NaN        NaN\n",
       "..        ...        ...\n",
       "195  0.000000  10.000000\n",
       "196       NaN        NaN\n",
       "197  5.000000   5.000000\n",
       "198  0.500000   9.500000\n",
       "199       NaN        NaN\n",
       "\n",
       "[200 rows x 2 columns]"
      ]
     },
     "metadata": {},
     "output_type": "display_data"
    },
    {
     "data": {
      "application/vnd.plotly.v1+json": {
       "config": {
        "plotlyServerURL": "https://plot.ly"
       },
       "data": [
        {
         "fill": "toself",
         "line": {
          "color": "black",
          "width": 3
         },
         "mode": "lines",
         "opacity": 1,
         "type": "scatter",
         "x": [
          0,
          -0.5833333333333334,
          -0.4166666666666667,
          0,
          null,
          -5,
          -0.5,
          null,
          -2.5,
          -2.8333333333333335,
          -2.6666666666666665,
          -2.5,
          null,
          -5,
          -2.75,
          null,
          -5,
          -5.083333333333333,
          -4.916666666666667,
          -5,
          null,
          -5,
          -5,
          null,
          -7.5,
          -7.333333333333333,
          -7.166666666666667,
          -7.5,
          null,
          -5,
          -7.25,
          null,
          -10,
          -9.583333333333334,
          -9.416666666666666,
          -10,
          null,
          -5,
          -9.5,
          null,
          2.5,
          1.9583333333333333,
          2.0416666666666665,
          2.5,
          null,
          -2.5,
          2,
          null,
          0,
          -0.2916666666666667,
          -0.20833333333333334,
          0,
          null,
          -2.5,
          -0.25,
          null,
          -2.5,
          -2.5416666666666665,
          -2.4583333333333335,
          -2.5,
          null,
          -2.5,
          -2.5,
          null,
          -5,
          -4.791666666666667,
          -4.708333333333333,
          -5,
          null,
          -2.5,
          -4.75,
          null,
          -7.5,
          -7.041666666666667,
          -6.958333333333333,
          -7.5,
          null,
          -2.5,
          -7,
          null,
          5,
          4.5,
          4.5,
          5,
          null,
          0,
          4.5,
          null,
          2.5,
          2.25,
          2.25,
          2.5,
          null,
          0,
          2.25,
          null,
          0,
          null,
          null,
          0,
          null,
          0,
          0,
          null,
          -2.5,
          -2.25,
          -2.25,
          -2.5,
          null,
          0,
          -2.25,
          null,
          -5,
          -4.5,
          -4.5,
          -5,
          null,
          0,
          -4.5,
          null,
          7.5,
          7.041666666666667,
          6.958333333333333,
          7.5,
          null,
          2.5,
          7,
          null,
          5,
          4.791666666666667,
          4.708333333333333,
          5,
          null,
          2.5,
          4.75,
          null,
          2.5,
          2.5416666666666665,
          2.4583333333333335,
          2.5,
          null,
          2.5,
          2.5,
          null,
          0,
          0.2916666666666667,
          0.20833333333333334,
          0,
          null,
          2.5,
          0.25,
          null,
          -2.5,
          -1.9583333333333333,
          -2.0416666666666665,
          -2.5,
          null,
          2.5,
          -2,
          null,
          10,
          9.583333333333334,
          9.416666666666666,
          10,
          null,
          5,
          9.5,
          null,
          7.5,
          7.333333333333333,
          7.166666666666667,
          7.5,
          null,
          5,
          7.25,
          null,
          5,
          5.083333333333333,
          4.916666666666667,
          5,
          null,
          5,
          5,
          null,
          2.5,
          2.8333333333333335,
          2.6666666666666665,
          2.5,
          null,
          5,
          2.75,
          null,
          0,
          0.5833333333333334,
          0.4166666666666667,
          0,
          null,
          5,
          0.5,
          null
         ],
         "y": [
          -10,
          -9.583333333333334,
          -9.416666666666666,
          -10,
          null,
          -5,
          -9.5,
          null,
          -7.5,
          -7.041666666666667,
          -6.958333333333333,
          -7.5,
          null,
          -2.5,
          -7,
          null,
          -5,
          -4.5,
          -4.5,
          -5,
          null,
          0,
          -4.5,
          null,
          -2.5,
          -1.9583333333333333,
          -2.0416666666666665,
          -2.5,
          null,
          2.5,
          -2,
          null,
          0,
          0.5833333333333334,
          0.4166666666666667,
          0,
          null,
          5,
          0.5,
          null,
          -7.5,
          -7.333333333333333,
          -7.166666666666667,
          -7.5,
          null,
          -5,
          -7.25,
          null,
          -5,
          -4.791666666666667,
          -4.708333333333333,
          -5,
          null,
          -2.5,
          -4.75,
          null,
          -2.5,
          -2.25,
          -2.25,
          -2.5,
          null,
          0,
          -2.25,
          null,
          0,
          0.2916666666666667,
          0.20833333333333334,
          0,
          null,
          2.5,
          0.25,
          null,
          2.5,
          2.8333333333333335,
          2.6666666666666665,
          2.5,
          null,
          5,
          2.75,
          null,
          -5,
          -5.083333333333333,
          -4.916666666666667,
          -5,
          null,
          -5,
          -5,
          null,
          -2.5,
          -2.5416666666666665,
          -2.4583333333333335,
          -2.5,
          null,
          -2.5,
          -2.5,
          null,
          0,
          null,
          null,
          0,
          null,
          0,
          0,
          null,
          2.5,
          2.5416666666666665,
          2.4583333333333335,
          2.5,
          null,
          2.5,
          2.5,
          null,
          5,
          5.083333333333333,
          4.916666666666667,
          5,
          null,
          5,
          5,
          null,
          -2.5,
          -2.8333333333333335,
          -2.6666666666666665,
          -2.5,
          null,
          -5,
          -2.75,
          null,
          0,
          -0.2916666666666667,
          -0.20833333333333334,
          0,
          null,
          -2.5,
          -0.25,
          null,
          2.5,
          2.25,
          2.25,
          2.5,
          null,
          0,
          2.25,
          null,
          5,
          4.791666666666667,
          4.708333333333333,
          5,
          null,
          2.5,
          4.75,
          null,
          7.5,
          7.333333333333333,
          7.166666666666667,
          7.5,
          null,
          5,
          7.25,
          null,
          0,
          -0.5833333333333334,
          -0.4166666666666667,
          0,
          null,
          -5,
          -0.5,
          null,
          2.5,
          1.9583333333333333,
          2.0416666666666665,
          2.5,
          null,
          -2.5,
          2,
          null,
          5,
          4.5,
          4.5,
          5,
          null,
          0,
          4.5,
          null,
          7.5,
          7.041666666666667,
          6.958333333333333,
          7.5,
          null,
          2.5,
          7,
          null,
          10,
          9.583333333333334,
          9.416666666666666,
          10,
          null,
          5,
          9.5,
          null
         ]
        }
       ],
       "layout": {
        "autosize": true,
        "showlegend": false,
        "template": {
         "data": {
          "bar": [
           {
            "error_x": {
             "color": "#2a3f5f"
            },
            "error_y": {
             "color": "#2a3f5f"
            },
            "marker": {
             "line": {
              "color": "#E5ECF6",
              "width": 0.5
             }
            },
            "type": "bar"
           }
          ],
          "barpolar": [
           {
            "marker": {
             "line": {
              "color": "#E5ECF6",
              "width": 0.5
             }
            },
            "type": "barpolar"
           }
          ],
          "carpet": [
           {
            "aaxis": {
             "endlinecolor": "#2a3f5f",
             "gridcolor": "white",
             "linecolor": "white",
             "minorgridcolor": "white",
             "startlinecolor": "#2a3f5f"
            },
            "baxis": {
             "endlinecolor": "#2a3f5f",
             "gridcolor": "white",
             "linecolor": "white",
             "minorgridcolor": "white",
             "startlinecolor": "#2a3f5f"
            },
            "type": "carpet"
           }
          ],
          "choropleth": [
           {
            "colorbar": {
             "outlinewidth": 0,
             "ticks": ""
            },
            "type": "choropleth"
           }
          ],
          "contour": [
           {
            "colorbar": {
             "outlinewidth": 0,
             "ticks": ""
            },
            "colorscale": [
             [
              0,
              "#0d0887"
             ],
             [
              0.1111111111111111,
              "#46039f"
             ],
             [
              0.2222222222222222,
              "#7201a8"
             ],
             [
              0.3333333333333333,
              "#9c179e"
             ],
             [
              0.4444444444444444,
              "#bd3786"
             ],
             [
              0.5555555555555556,
              "#d8576b"
             ],
             [
              0.6666666666666666,
              "#ed7953"
             ],
             [
              0.7777777777777778,
              "#fb9f3a"
             ],
             [
              0.8888888888888888,
              "#fdca26"
             ],
             [
              1,
              "#f0f921"
             ]
            ],
            "type": "contour"
           }
          ],
          "contourcarpet": [
           {
            "colorbar": {
             "outlinewidth": 0,
             "ticks": ""
            },
            "type": "contourcarpet"
           }
          ],
          "heatmap": [
           {
            "colorbar": {
             "outlinewidth": 0,
             "ticks": ""
            },
            "colorscale": [
             [
              0,
              "#0d0887"
             ],
             [
              0.1111111111111111,
              "#46039f"
             ],
             [
              0.2222222222222222,
              "#7201a8"
             ],
             [
              0.3333333333333333,
              "#9c179e"
             ],
             [
              0.4444444444444444,
              "#bd3786"
             ],
             [
              0.5555555555555556,
              "#d8576b"
             ],
             [
              0.6666666666666666,
              "#ed7953"
             ],
             [
              0.7777777777777778,
              "#fb9f3a"
             ],
             [
              0.8888888888888888,
              "#fdca26"
             ],
             [
              1,
              "#f0f921"
             ]
            ],
            "type": "heatmap"
           }
          ],
          "heatmapgl": [
           {
            "colorbar": {
             "outlinewidth": 0,
             "ticks": ""
            },
            "colorscale": [
             [
              0,
              "#0d0887"
             ],
             [
              0.1111111111111111,
              "#46039f"
             ],
             [
              0.2222222222222222,
              "#7201a8"
             ],
             [
              0.3333333333333333,
              "#9c179e"
             ],
             [
              0.4444444444444444,
              "#bd3786"
             ],
             [
              0.5555555555555556,
              "#d8576b"
             ],
             [
              0.6666666666666666,
              "#ed7953"
             ],
             [
              0.7777777777777778,
              "#fb9f3a"
             ],
             [
              0.8888888888888888,
              "#fdca26"
             ],
             [
              1,
              "#f0f921"
             ]
            ],
            "type": "heatmapgl"
           }
          ],
          "histogram": [
           {
            "marker": {
             "colorbar": {
              "outlinewidth": 0,
              "ticks": ""
             }
            },
            "type": "histogram"
           }
          ],
          "histogram2d": [
           {
            "colorbar": {
             "outlinewidth": 0,
             "ticks": ""
            },
            "colorscale": [
             [
              0,
              "#0d0887"
             ],
             [
              0.1111111111111111,
              "#46039f"
             ],
             [
              0.2222222222222222,
              "#7201a8"
             ],
             [
              0.3333333333333333,
              "#9c179e"
             ],
             [
              0.4444444444444444,
              "#bd3786"
             ],
             [
              0.5555555555555556,
              "#d8576b"
             ],
             [
              0.6666666666666666,
              "#ed7953"
             ],
             [
              0.7777777777777778,
              "#fb9f3a"
             ],
             [
              0.8888888888888888,
              "#fdca26"
             ],
             [
              1,
              "#f0f921"
             ]
            ],
            "type": "histogram2d"
           }
          ],
          "histogram2dcontour": [
           {
            "colorbar": {
             "outlinewidth": 0,
             "ticks": ""
            },
            "colorscale": [
             [
              0,
              "#0d0887"
             ],
             [
              0.1111111111111111,
              "#46039f"
             ],
             [
              0.2222222222222222,
              "#7201a8"
             ],
             [
              0.3333333333333333,
              "#9c179e"
             ],
             [
              0.4444444444444444,
              "#bd3786"
             ],
             [
              0.5555555555555556,
              "#d8576b"
             ],
             [
              0.6666666666666666,
              "#ed7953"
             ],
             [
              0.7777777777777778,
              "#fb9f3a"
             ],
             [
              0.8888888888888888,
              "#fdca26"
             ],
             [
              1,
              "#f0f921"
             ]
            ],
            "type": "histogram2dcontour"
           }
          ],
          "mesh3d": [
           {
            "colorbar": {
             "outlinewidth": 0,
             "ticks": ""
            },
            "type": "mesh3d"
           }
          ],
          "parcoords": [
           {
            "line": {
             "colorbar": {
              "outlinewidth": 0,
              "ticks": ""
             }
            },
            "type": "parcoords"
           }
          ],
          "pie": [
           {
            "automargin": true,
            "type": "pie"
           }
          ],
          "scatter": [
           {
            "marker": {
             "colorbar": {
              "outlinewidth": 0,
              "ticks": ""
             }
            },
            "type": "scatter"
           }
          ],
          "scatter3d": [
           {
            "line": {
             "colorbar": {
              "outlinewidth": 0,
              "ticks": ""
             }
            },
            "marker": {
             "colorbar": {
              "outlinewidth": 0,
              "ticks": ""
             }
            },
            "type": "scatter3d"
           }
          ],
          "scattercarpet": [
           {
            "marker": {
             "colorbar": {
              "outlinewidth": 0,
              "ticks": ""
             }
            },
            "type": "scattercarpet"
           }
          ],
          "scattergeo": [
           {
            "marker": {
             "colorbar": {
              "outlinewidth": 0,
              "ticks": ""
             }
            },
            "type": "scattergeo"
           }
          ],
          "scattergl": [
           {
            "marker": {
             "colorbar": {
              "outlinewidth": 0,
              "ticks": ""
             }
            },
            "type": "scattergl"
           }
          ],
          "scattermapbox": [
           {
            "marker": {
             "colorbar": {
              "outlinewidth": 0,
              "ticks": ""
             }
            },
            "type": "scattermapbox"
           }
          ],
          "scatterpolar": [
           {
            "marker": {
             "colorbar": {
              "outlinewidth": 0,
              "ticks": ""
             }
            },
            "type": "scatterpolar"
           }
          ],
          "scatterpolargl": [
           {
            "marker": {
             "colorbar": {
              "outlinewidth": 0,
              "ticks": ""
             }
            },
            "type": "scatterpolargl"
           }
          ],
          "scatterternary": [
           {
            "marker": {
             "colorbar": {
              "outlinewidth": 0,
              "ticks": ""
             }
            },
            "type": "scatterternary"
           }
          ],
          "surface": [
           {
            "colorbar": {
             "outlinewidth": 0,
             "ticks": ""
            },
            "colorscale": [
             [
              0,
              "#0d0887"
             ],
             [
              0.1111111111111111,
              "#46039f"
             ],
             [
              0.2222222222222222,
              "#7201a8"
             ],
             [
              0.3333333333333333,
              "#9c179e"
             ],
             [
              0.4444444444444444,
              "#bd3786"
             ],
             [
              0.5555555555555556,
              "#d8576b"
             ],
             [
              0.6666666666666666,
              "#ed7953"
             ],
             [
              0.7777777777777778,
              "#fb9f3a"
             ],
             [
              0.8888888888888888,
              "#fdca26"
             ],
             [
              1,
              "#f0f921"
             ]
            ],
            "type": "surface"
           }
          ],
          "table": [
           {
            "cells": {
             "fill": {
              "color": "#EBF0F8"
             },
             "line": {
              "color": "white"
             }
            },
            "header": {
             "fill": {
              "color": "#C8D4E3"
             },
             "line": {
              "color": "white"
             }
            },
            "type": "table"
           }
          ]
         },
         "layout": {
          "annotationdefaults": {
           "arrowcolor": "#2a3f5f",
           "arrowhead": 0,
           "arrowwidth": 1
          },
          "coloraxis": {
           "colorbar": {
            "outlinewidth": 0,
            "ticks": ""
           }
          },
          "colorscale": {
           "diverging": [
            [
             0,
             "#8e0152"
            ],
            [
             0.1,
             "#c51b7d"
            ],
            [
             0.2,
             "#de77ae"
            ],
            [
             0.3,
             "#f1b6da"
            ],
            [
             0.4,
             "#fde0ef"
            ],
            [
             0.5,
             "#f7f7f7"
            ],
            [
             0.6,
             "#e6f5d0"
            ],
            [
             0.7,
             "#b8e186"
            ],
            [
             0.8,
             "#7fbc41"
            ],
            [
             0.9,
             "#4d9221"
            ],
            [
             1,
             "#276419"
            ]
           ],
           "sequential": [
            [
             0,
             "#0d0887"
            ],
            [
             0.1111111111111111,
             "#46039f"
            ],
            [
             0.2222222222222222,
             "#7201a8"
            ],
            [
             0.3333333333333333,
             "#9c179e"
            ],
            [
             0.4444444444444444,
             "#bd3786"
            ],
            [
             0.5555555555555556,
             "#d8576b"
            ],
            [
             0.6666666666666666,
             "#ed7953"
            ],
            [
             0.7777777777777778,
             "#fb9f3a"
            ],
            [
             0.8888888888888888,
             "#fdca26"
            ],
            [
             1,
             "#f0f921"
            ]
           ],
           "sequentialminus": [
            [
             0,
             "#0d0887"
            ],
            [
             0.1111111111111111,
             "#46039f"
            ],
            [
             0.2222222222222222,
             "#7201a8"
            ],
            [
             0.3333333333333333,
             "#9c179e"
            ],
            [
             0.4444444444444444,
             "#bd3786"
            ],
            [
             0.5555555555555556,
             "#d8576b"
            ],
            [
             0.6666666666666666,
             "#ed7953"
            ],
            [
             0.7777777777777778,
             "#fb9f3a"
            ],
            [
             0.8888888888888888,
             "#fdca26"
            ],
            [
             1,
             "#f0f921"
            ]
           ]
          },
          "colorway": [
           "#636efa",
           "#EF553B",
           "#00cc96",
           "#ab63fa",
           "#FFA15A",
           "#19d3f3",
           "#FF6692",
           "#B6E880",
           "#FF97FF",
           "#FECB52"
          ],
          "font": {
           "color": "#2a3f5f"
          },
          "geo": {
           "bgcolor": "white",
           "lakecolor": "white",
           "landcolor": "#E5ECF6",
           "showlakes": true,
           "showland": true,
           "subunitcolor": "white"
          },
          "hoverlabel": {
           "align": "left"
          },
          "hovermode": "closest",
          "mapbox": {
           "style": "light"
          },
          "paper_bgcolor": "white",
          "plot_bgcolor": "#E5ECF6",
          "polar": {
           "angularaxis": {
            "gridcolor": "white",
            "linecolor": "white",
            "ticks": ""
           },
           "bgcolor": "#E5ECF6",
           "radialaxis": {
            "gridcolor": "white",
            "linecolor": "white",
            "ticks": ""
           }
          },
          "scene": {
           "xaxis": {
            "backgroundcolor": "#E5ECF6",
            "gridcolor": "white",
            "gridwidth": 2,
            "linecolor": "white",
            "showbackground": true,
            "ticks": "",
            "zerolinecolor": "white"
           },
           "yaxis": {
            "backgroundcolor": "#E5ECF6",
            "gridcolor": "white",
            "gridwidth": 2,
            "linecolor": "white",
            "showbackground": true,
            "ticks": "",
            "zerolinecolor": "white"
           },
           "zaxis": {
            "backgroundcolor": "#E5ECF6",
            "gridcolor": "white",
            "gridwidth": 2,
            "linecolor": "white",
            "showbackground": true,
            "ticks": "",
            "zerolinecolor": "white"
           }
          },
          "shapedefaults": {
           "line": {
            "color": "#2a3f5f"
           }
          },
          "ternary": {
           "aaxis": {
            "gridcolor": "white",
            "linecolor": "white",
            "ticks": ""
           },
           "baxis": {
            "gridcolor": "white",
            "linecolor": "white",
            "ticks": ""
           },
           "bgcolor": "#E5ECF6",
           "caxis": {
            "gridcolor": "white",
            "linecolor": "white",
            "ticks": ""
           }
          },
          "title": {
           "x": 0.05
          },
          "xaxis": {
           "automargin": true,
           "gridcolor": "white",
           "linecolor": "white",
           "ticks": "",
           "title": {
            "standoff": 15
           },
           "zerolinecolor": "white",
           "zerolinewidth": 2
          },
          "yaxis": {
           "automargin": true,
           "gridcolor": "white",
           "linecolor": "white",
           "ticks": "",
           "title": {
            "standoff": 15
           },
           "zerolinecolor": "white",
           "zerolinewidth": 2
          }
         }
        },
        "xaxis": {
         "autorange": true,
         "domain": [
          0,
          1
         ],
         "range": [
          -41.06995884773663,
          41.06995884773663
         ],
         "showgrid": true,
         "type": "linear",
         "zeroline": true
        },
        "yaxis": {
         "autorange": true,
         "domain": [
          0,
          1
         ],
         "range": [
          -11.11111111111111,
          11.11111111111111
         ],
         "scaleanchor": "x",
         "scaleratio": 1,
         "showgrid": true,
         "type": "linear",
         "zeroline": true
        }
       }
      },
      "image/png": "[encoded data removed]",
      "text/html": [
       "<div>                            <div id=\"82971fff-70e9-48b8-a295-881e61bb483e\" class=\"plotly-graph-div\" style=\"height:525px; width:100%;\"></div>            <script type=\"text/javascript\">                require([\"plotly\"], function(Plotly) {                    window.PLOTLYENV=window.PLOTLYENV || {};                                    if (document.getElementById(\"82971fff-70e9-48b8-a295-881e61bb483e\")) {                    Plotly.newPlot(                        \"82971fff-70e9-48b8-a295-881e61bb483e\",                        [{\"fill\": \"toself\", \"line\": {\"color\": \"black\", \"width\": 3}, \"mode\": \"lines\", \"opacity\": 1, \"type\": \"scatter\", \"x\": [0.0, -0.5833333333333334, -0.4166666666666667, 0.0, null, -5.0, -0.5, null, -2.5, -2.8333333333333335, -2.6666666666666665, -2.5, null, -5.0, -2.75, null, -5.0, -5.083333333333333, -4.916666666666667, -5.0, null, -5.0, -5.0, null, -7.5, -7.333333333333333, -7.166666666666667, -7.5, null, -5.0, -7.25, null, -10.0, -9.583333333333334, -9.416666666666666, -10.0, null, -5.0, -9.5, null, 2.5, 1.9583333333333333, 2.0416666666666665, 2.5, null, -2.5, 2.0, null, 0.0, -0.2916666666666667, -0.20833333333333334, 0.0, null, -2.5, -0.25, null, -2.5, -2.5416666666666665, -2.4583333333333335, -2.5, null, -2.5, -2.5, null, -5.0, -4.791666666666667, -4.708333333333333, -5.0, null, -2.5, -4.75, null, -7.5, -7.041666666666667, -6.958333333333333, -7.5, null, -2.5, -7.0, null, 5.0, 4.5, 4.5, 5.0, null, 0.0, 4.5, null, 2.5, 2.25, 2.25, 2.5, null, 0.0, 2.25, null, 0.0, null, null, 0.0, null, 0.0, 0.0, null, -2.5, -2.25, -2.25, -2.5, null, 0.0, -2.25, null, -5.0, -4.5, -4.5, -5.0, null, 0.0, -4.5, null, 7.5, 7.041666666666667, 6.958333333333333, 7.5, null, 2.5, 7.0, null, 5.0, 4.791666666666667, 4.708333333333333, 5.0, null, 2.5, 4.75, null, 2.5, 2.5416666666666665, 2.4583333333333335, 2.5, null, 2.5, 2.5, null, 0.0, 0.2916666666666667, 0.20833333333333334, 0.0, null, 2.5, 0.25, null, -2.5, -1.9583333333333333, -2.0416666666666665, -2.5, null, 2.5, -2.0, null, 10.0, 9.583333333333334, 9.416666666666666, 10.0, null, 5.0, 9.5, null, 7.5, 7.333333333333333, 7.166666666666667, 7.5, null, 5.0, 7.25, null, 5.0, 5.083333333333333, 4.916666666666667, 5.0, null, 5.0, 5.0, null, 2.5, 2.8333333333333335, 2.6666666666666665, 2.5, null, 5.0, 2.75, null, 0.0, 0.5833333333333334, 0.4166666666666667, 0.0, null, 5.0, 0.5, null], \"y\": [-10.0, -9.583333333333334, -9.416666666666666, -10.0, null, -5.0, -9.5, null, -7.5, -7.041666666666667, -6.958333333333333, -7.5, null, -2.5, -7.0, null, -5.0, -4.5, -4.5, -5.0, null, 0.0, -4.5, null, -2.5, -1.9583333333333333, -2.0416666666666665, -2.5, null, 2.5, -2.0, null, 0.0, 0.5833333333333334, 0.4166666666666667, 0.0, null, 5.0, 0.5, null, -7.5, -7.333333333333333, -7.166666666666667, -7.5, null, -5.0, -7.25, null, -5.0, -4.791666666666667, -4.708333333333333, -5.0, null, -2.5, -4.75, null, -2.5, -2.25, -2.25, -2.5, null, 0.0, -2.25, null, 0.0, 0.2916666666666667, 0.20833333333333334, 0.0, null, 2.5, 0.25, null, 2.5, 2.8333333333333335, 2.6666666666666665, 2.5, null, 5.0, 2.75, null, -5.0, -5.083333333333333, -4.916666666666667, -5.0, null, -5.0, -5.0, null, -2.5, -2.5416666666666665, -2.4583333333333335, -2.5, null, -2.5, -2.5, null, 0.0, null, null, 0.0, null, 0.0, 0.0, null, 2.5, 2.5416666666666665, 2.4583333333333335, 2.5, null, 2.5, 2.5, null, 5.0, 5.083333333333333, 4.916666666666667, 5.0, null, 5.0, 5.0, null, -2.5, -2.8333333333333335, -2.6666666666666665, -2.5, null, -5.0, -2.75, null, 0.0, -0.2916666666666667, -0.20833333333333334, 0.0, null, -2.5, -0.25, null, 2.5, 2.25, 2.25, 2.5, null, 0.0, 2.25, null, 5.0, 4.791666666666667, 4.708333333333333, 5.0, null, 2.5, 4.75, null, 7.5, 7.333333333333333, 7.166666666666667, 7.5, null, 5.0, 7.25, null, 0.0, -0.5833333333333334, -0.4166666666666667, 0.0, null, -5.0, -0.5, null, 2.5, 1.9583333333333333, 2.0416666666666665, 2.5, null, -2.5, 2.0, null, 5.0, 4.5, 4.5, 5.0, null, 0.0, 4.5, null, 7.5, 7.041666666666667, 6.958333333333333, 7.5, null, 2.5, 7.0, null, 10.0, 9.583333333333334, 9.416666666666666, 10.0, null, 5.0, 9.5, null]}],                        {\"showlegend\": false, \"template\": {\"data\": {\"bar\": [{\"error_x\": {\"color\": \"#2a3f5f\"}, \"error_y\": {\"color\": \"#2a3f5f\"}, \"marker\": {\"line\": {\"color\": \"#E5ECF6\", \"width\": 0.5}}, \"type\": \"bar\"}], \"barpolar\": [{\"marker\": {\"line\": {\"color\": \"#E5ECF6\", \"width\": 0.5}}, \"type\": \"barpolar\"}], \"carpet\": [{\"aaxis\": {\"endlinecolor\": \"#2a3f5f\", \"gridcolor\": \"white\", \"linecolor\": \"white\", \"minorgridcolor\": \"white\", \"startlinecolor\": \"#2a3f5f\"}, \"baxis\": {\"endlinecolor\": \"#2a3f5f\", \"gridcolor\": \"white\", \"linecolor\": \"white\", \"minorgridcolor\": \"white\", \"startlinecolor\": \"#2a3f5f\"}, \"type\": \"carpet\"}], \"choropleth\": [{\"colorbar\": {\"outlinewidth\": 0, \"ticks\": \"\"}, \"type\": \"choropleth\"}], \"contour\": [{\"colorbar\": {\"outlinewidth\": 0, \"ticks\": \"\"}, \"colorscale\": [[0.0, \"#0d0887\"], [0.1111111111111111, \"#46039f\"], [0.2222222222222222, \"#7201a8\"], [0.3333333333333333, \"#9c179e\"], [0.4444444444444444, \"#bd3786\"], [0.5555555555555556, \"#d8576b\"], [0.6666666666666666, \"#ed7953\"], [0.7777777777777778, \"#fb9f3a\"], [0.8888888888888888, \"#fdca26\"], [1.0, \"#f0f921\"]], \"type\": \"contour\"}], \"contourcarpet\": [{\"colorbar\": {\"outlinewidth\": 0, \"ticks\": \"\"}, \"type\": \"contourcarpet\"}], \"heatmap\": [{\"colorbar\": {\"outlinewidth\": 0, \"ticks\": \"\"}, \"colorscale\": [[0.0, \"#0d0887\"], [0.1111111111111111, \"#46039f\"], [0.2222222222222222, \"#7201a8\"], [0.3333333333333333, \"#9c179e\"], [0.4444444444444444, \"#bd3786\"], [0.5555555555555556, \"#d8576b\"], [0.6666666666666666, \"#ed7953\"], [0.7777777777777778, \"#fb9f3a\"], [0.8888888888888888, \"#fdca26\"], [1.0, \"#f0f921\"]], \"type\": \"heatmap\"}], \"heatmapgl\": [{\"colorbar\": {\"outlinewidth\": 0, \"ticks\": \"\"}, \"colorscale\": [[0.0, \"#0d0887\"], [0.1111111111111111, \"#46039f\"], [0.2222222222222222, \"#7201a8\"], [0.3333333333333333, \"#9c179e\"], [0.4444444444444444, \"#bd3786\"], [0.5555555555555556, \"#d8576b\"], [0.6666666666666666, \"#ed7953\"], [0.7777777777777778, \"#fb9f3a\"], [0.8888888888888888, \"#fdca26\"], [1.0, \"#f0f921\"]], \"type\": \"heatmapgl\"}], \"histogram\": [{\"marker\": {\"colorbar\": {\"outlinewidth\": 0, \"ticks\": \"\"}}, \"type\": \"histogram\"}], \"histogram2d\": [{\"colorbar\": {\"outlinewidth\": 0, \"ticks\": \"\"}, \"colorscale\": [[0.0, \"#0d0887\"], [0.1111111111111111, \"#46039f\"], [0.2222222222222222, \"#7201a8\"], [0.3333333333333333, \"#9c179e\"], [0.4444444444444444, \"#bd3786\"], [0.5555555555555556, \"#d8576b\"], [0.6666666666666666, \"#ed7953\"], [0.7777777777777778, \"#fb9f3a\"], [0.8888888888888888, \"#fdca26\"], [1.0, \"#f0f921\"]], \"type\": \"histogram2d\"}], \"histogram2dcontour\": [{\"colorbar\": {\"outlinewidth\": 0, \"ticks\": \"\"}, \"colorscale\": [[0.0, \"#0d0887\"], [0.1111111111111111, \"#46039f\"], [0.2222222222222222, \"#7201a8\"], [0.3333333333333333, \"#9c179e\"], [0.4444444444444444, \"#bd3786\"], [0.5555555555555556, \"#d8576b\"], [0.6666666666666666, \"#ed7953\"], [0.7777777777777778, \"#fb9f3a\"], [0.8888888888888888, \"#fdca26\"], [1.0, \"#f0f921\"]], \"type\": \"histogram2dcontour\"}], \"mesh3d\": [{\"colorbar\": {\"outlinewidth\": 0, \"ticks\": \"\"}, \"type\": \"mesh3d\"}], \"parcoords\": [{\"line\": {\"colorbar\": {\"outlinewidth\": 0, \"ticks\": \"\"}}, \"type\": \"parcoords\"}], \"pie\": [{\"automargin\": true, \"type\": \"pie\"}], \"scatter\": [{\"marker\": {\"colorbar\": {\"outlinewidth\": 0, \"ticks\": \"\"}}, \"type\": \"scatter\"}], \"scatter3d\": [{\"line\": {\"colorbar\": {\"outlinewidth\": 0, \"ticks\": \"\"}}, \"marker\": {\"colorbar\": {\"outlinewidth\": 0, \"ticks\": \"\"}}, \"type\": \"scatter3d\"}], \"scattercarpet\": [{\"marker\": {\"colorbar\": {\"outlinewidth\": 0, \"ticks\": \"\"}}, \"type\": \"scattercarpet\"}], \"scattergeo\": [{\"marker\": {\"colorbar\": {\"outlinewidth\": 0, \"ticks\": \"\"}}, \"type\": \"scattergeo\"}], \"scattergl\": [{\"marker\": {\"colorbar\": {\"outlinewidth\": 0, \"ticks\": \"\"}}, \"type\": \"scattergl\"}], \"scattermapbox\": [{\"marker\": {\"colorbar\": {\"outlinewidth\": 0, \"ticks\": \"\"}}, \"type\": \"scattermapbox\"}], \"scatterpolar\": [{\"marker\": {\"colorbar\": {\"outlinewidth\": 0, \"ticks\": \"\"}}, \"type\": \"scatterpolar\"}], \"scatterpolargl\": [{\"marker\": {\"colorbar\": {\"outlinewidth\": 0, \"ticks\": \"\"}}, \"type\": \"scatterpolargl\"}], \"scatterternary\": [{\"marker\": {\"colorbar\": {\"outlinewidth\": 0, \"ticks\": \"\"}}, \"type\": \"scatterternary\"}], \"surface\": [{\"colorbar\": {\"outlinewidth\": 0, \"ticks\": \"\"}, \"colorscale\": [[0.0, \"#0d0887\"], [0.1111111111111111, \"#46039f\"], [0.2222222222222222, \"#7201a8\"], [0.3333333333333333, \"#9c179e\"], [0.4444444444444444, \"#bd3786\"], [0.5555555555555556, \"#d8576b\"], [0.6666666666666666, \"#ed7953\"], [0.7777777777777778, \"#fb9f3a\"], [0.8888888888888888, \"#fdca26\"], [1.0, \"#f0f921\"]], \"type\": \"surface\"}], \"table\": [{\"cells\": {\"fill\": {\"color\": \"#EBF0F8\"}, \"line\": {\"color\": \"white\"}}, \"header\": {\"fill\": {\"color\": \"#C8D4E3\"}, \"line\": {\"color\": \"white\"}}, \"type\": \"table\"}]}, \"layout\": {\"annotationdefaults\": {\"arrowcolor\": \"#2a3f5f\", \"arrowhead\": 0, \"arrowwidth\": 1}, \"coloraxis\": {\"colorbar\": {\"outlinewidth\": 0, \"ticks\": \"\"}}, \"colorscale\": {\"diverging\": [[0, \"#8e0152\"], [0.1, \"#c51b7d\"], [0.2, \"#de77ae\"], [0.3, \"#f1b6da\"], [0.4, \"#fde0ef\"], [0.5, \"#f7f7f7\"], [0.6, \"#e6f5d0\"], [0.7, \"#b8e186\"], [0.8, \"#7fbc41\"], [0.9, \"#4d9221\"], [1, \"#276419\"]], \"sequential\": [[0.0, \"#0d0887\"], [0.1111111111111111, \"#46039f\"], [0.2222222222222222, \"#7201a8\"], [0.3333333333333333, \"#9c179e\"], [0.4444444444444444, \"#bd3786\"], [0.5555555555555556, \"#d8576b\"], [0.6666666666666666, \"#ed7953\"], [0.7777777777777778, \"#fb9f3a\"], [0.8888888888888888, \"#fdca26\"], [1.0, \"#f0f921\"]], \"sequentialminus\": [[0.0, \"#0d0887\"], [0.1111111111111111, \"#46039f\"], [0.2222222222222222, \"#7201a8\"], [0.3333333333333333, \"#9c179e\"], [0.4444444444444444, \"#bd3786\"], [0.5555555555555556, \"#d8576b\"], [0.6666666666666666, \"#ed7953\"], [0.7777777777777778, \"#fb9f3a\"], [0.8888888888888888, \"#fdca26\"], [1.0, \"#f0f921\"]]}, \"colorway\": [\"#636efa\", \"#EF553B\", \"#00cc96\", \"#ab63fa\", \"#FFA15A\", \"#19d3f3\", \"#FF6692\", \"#B6E880\", \"#FF97FF\", \"#FECB52\"], \"font\": {\"color\": \"#2a3f5f\"}, \"geo\": {\"bgcolor\": \"white\", \"lakecolor\": \"white\", \"landcolor\": \"#E5ECF6\", \"showlakes\": true, \"showland\": true, \"subunitcolor\": \"white\"}, \"hoverlabel\": {\"align\": \"left\"}, \"hovermode\": \"closest\", \"mapbox\": {\"style\": \"light\"}, \"paper_bgcolor\": \"white\", \"plot_bgcolor\": \"#E5ECF6\", \"polar\": {\"angularaxis\": {\"gridcolor\": \"white\", \"linecolor\": \"white\", \"ticks\": \"\"}, \"bgcolor\": \"#E5ECF6\", \"radialaxis\": {\"gridcolor\": \"white\", \"linecolor\": \"white\", \"ticks\": \"\"}}, \"scene\": {\"xaxis\": {\"backgroundcolor\": \"#E5ECF6\", \"gridcolor\": \"white\", \"gridwidth\": 2, \"linecolor\": \"white\", \"showbackground\": true, \"ticks\": \"\", \"zerolinecolor\": \"white\"}, \"yaxis\": {\"backgroundcolor\": \"#E5ECF6\", \"gridcolor\": \"white\", \"gridwidth\": 2, \"linecolor\": \"white\", \"showbackground\": true, \"ticks\": \"\", \"zerolinecolor\": \"white\"}, \"zaxis\": {\"backgroundcolor\": \"#E5ECF6\", \"gridcolor\": \"white\", \"gridwidth\": 2, \"linecolor\": \"white\", \"showbackground\": true, \"ticks\": \"\", \"zerolinecolor\": \"white\"}}, \"shapedefaults\": {\"line\": {\"color\": \"#2a3f5f\"}}, \"ternary\": {\"aaxis\": {\"gridcolor\": \"white\", \"linecolor\": \"white\", \"ticks\": \"\"}, \"baxis\": {\"gridcolor\": \"white\", \"linecolor\": \"white\", \"ticks\": \"\"}, \"bgcolor\": \"#E5ECF6\", \"caxis\": {\"gridcolor\": \"white\", \"linecolor\": \"white\", \"ticks\": \"\"}}, \"title\": {\"x\": 0.05}, \"xaxis\": {\"automargin\": true, \"gridcolor\": \"white\", \"linecolor\": \"white\", \"ticks\": \"\", \"title\": {\"standoff\": 15}, \"zerolinecolor\": \"white\", \"zerolinewidth\": 2}, \"yaxis\": {\"automargin\": true, \"gridcolor\": \"white\", \"linecolor\": \"white\", \"ticks\": \"\", \"title\": {\"standoff\": 15}, \"zerolinecolor\": \"white\", \"zerolinewidth\": 2}}}, \"xaxis\": {\"showgrid\": true, \"zeroline\": true}, \"yaxis\": {\"scaleanchor\": \"x\", \"scaleratio\": 1, \"showgrid\": true, \"zeroline\": true}},                        {\"responsive\": true}                    ).then(function(){\n",
       "                            \n",
       "var gd = document.getElementById('82971fff-70e9-48b8-a295-881e61bb483e');\n",
       "var x = new MutationObserver(function (mutations, observer) {{\n",
       "        var display = window.getComputedStyle(gd).display;\n",
       "        if (!display || display === 'none') {{\n",
       "            console.log([gd, 'removed!']);\n",
       "            Plotly.purge(gd);\n",
       "            observer.disconnect();\n",
       "        }}\n",
       "}});\n",
       "\n",
       "// Listen for the removal of the full notebook cells\n",
       "var notebookContainer = gd.closest('#notebook-container');\n",
       "if (notebookContainer) {{\n",
       "    x.observe(notebookContainer, {childList: true});\n",
       "}}\n",
       "\n",
       "// Listen for the clearing of the current output cell\n",
       "var outputEl = gd.closest('.output');\n",
       "if (outputEl) {{\n",
       "    x.observe(outputEl, {childList: true});\n",
       "}}\n",
       "\n",
       "                        })                };                });            </script>        </div>"
      ]
     },
     "metadata": {},
     "output_type": "display_data"
    }
   ],
   "source": [
    "f = vector(x=xx.flatten(),y=yy.flatten(), u=u.flatten(), v=v.flatten())"
   ]
  },
  {
   "cell_type": "code",
   "execution_count": 19,
   "metadata": {},
   "outputs": [
    {
     "data": {
      "text/plain": [
       "NoneType"
      ]
     },
     "execution_count": 19,
     "metadata": {},
     "output_type": "execute_result"
    }
   ],
   "source": [
    "type(f)"
   ]
  },
  {
   "cell_type": "code",
   "execution_count": null,
   "metadata": {},
   "outputs": [],
   "source": []
  }
 ],
 "metadata": {
  "kernelspec": {
   "display_name": "Python 3",
   "language": "python",
   "name": "python3"
  },
  "language_info": {
   "codemirror_mode": {
    "name": "ipython",
    "version": 3
   },
   "file_extension": ".py",
   "mimetype": "text/x-python",
   "name": "python",
   "nbconvert_exporter": "python",
   "pygments_lexer": "ipython3",
   "version": "3.7.8"
  }
 },
 "nbformat": 4,
 "nbformat_minor": 4
}
