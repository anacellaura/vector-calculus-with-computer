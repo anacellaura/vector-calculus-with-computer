{
 "cells": [
  {
   "cell_type": "markdown",
   "metadata": {},
   "source": [
    "# Integral de Superficie de Campos Vetoriais"
   ]
  },
  {
   "cell_type": "markdown",
   "metadata": {},
   "source": [
    "A essa altura você está familiarizado com integrais de linhas de campos vetoriais,\n",
    "que em certo sentido medem o quanto o campo vetorial está “empurrando partículas” ao longo do caminho - em um caminho fechado, chamamos isso de circulação.\n",
    "E sobre integrais de superfície? Ou seja, que tal integrar um campo vetorial sobre\n",
    "alguma superfície parametrizada no espaço tridimensional?\n",
    "\n",
    "Para superfícies, não faz mais sentido perguntar quanto o campo vetorial está empurrando partículas ao longo da superfície. Em vez disso, a pergunta que queremos responder é: quanto o campo vetorial empurra as partículas através da superfície?\n",
    "![Surface integral](./images/Calculus_Integration_Surface_01.png)\n",
    "\n",
    "Vamos tornar isso um pouco mais preciso. Diga que o campo vetorial representa velocidade. Considere um pouquinho da superfície (um pequeno paralelogramo, por exemplo), tão pequeno que podemos considerar o campo vetorial constante\n",
    "nesse paralelogramo. Nesse caso, os lados do paralelogramo e o vetor que representa o campo vetorial formam um paralelepípedo.\n",
    "\n",
    "![Flux](./images/flux.png)\n",
    "\n",
    "\n",
    "Para encontrar o volume desse paralelepípedo, usamos o produto tríplice escalar:\n",
    "\n",
    "pegamos o produto vetorial dos lados do paralelogramo e depois encontramos o produto escalar daquele com o vetor do campo vetorial. Interpretamos o resultado como “quantidade de fluido (ou partículas) movendo-se através superfície por\n",
    "unidade de tempo”.\n",
    "\n",
    "A definição precisa de uma integral de superfície (ou integral de fluxo; os dois termos são intercambiáveis) de um campo vetorial está na próxima seção.\n"
   ]
  },
  {
   "cell_type": "markdown",
   "metadata": {},
   "source": [
    "## Definição:\n",
    "\n",
    "Seja $F : U \\subset R^3 \\rightarrow R^3$ um campo vetorial contínuo, e seja $M$ uma superfície lisa situada em $U$, parametrizada por $\\vec r (u, v)$, onde $(u, v) \\subset R \\in R^2$ . A integral de superfície (ou **integral do fluxo**) de $\\vec F$ sobre $M$ é :\n",
    "$$\n",
    "\\iint_M \\vec F \\cdot \\hat n \\;\\text{ds} = \\iint_R \\vec F(\\vec r(u,v)) \\cdot (\\frac{\\partial \\vec r}{\\partial u} \\times \\frac{\\partial \\vec r}{\\partial v})\\; \\text{du dv}\n",
    "$$\n",
    "\n",
    "onde $\\hat n$ é vetor normal unitário a superfície e é dado\n",
    "$$\n",
    "\\hat n = \\frac{\\vec r_u \\times \\vec r_v}{\\|\\vec r_u \\times \\vec r_v\\|}\n",
    "$$\n",
    "\n",
    "Esta definição é muito similar àquela para integrais de superfície de funções escalares, que você pode encontrar no capitulo anterior. Para funções escalares, multiplicamos a função escalar pelo comprimento do vetor normal. Nesse caso,\n",
    "vamos pegar o produto escalar de nosso campo vetorial com o vetor normal. Lembre-se, o produto escalar de dois vetores é um número, então nosso integrando final ainda será, na verdade, uma função escalar.\n",
    "\n",
    "Existem pelo menos duas maneiras de se convencer de que essa definição faz sentido.Como dissemos acima, $\\vec F \\cdot \\hat n$ representa o produto triplo escalar das derivadas parciais e $\\vec F$ , que sabemos que é igual ao volume do paralelepípedo usado por aqueles vetores (até um possível sinal de menos).\n",
    "\n",
    "Outra maneira de ver isso é reescrever o produto de ponto: $\\vec F \\cdot \\hat n = \\|\\vec F\\| \\|\\hat n\\| \\cos(\\theta)$ Nesse caso, vemos que o comprimento do vetor normal é a área do paralelogramo formado por duas derivadas parciais, que é multiplicado pelo comprimento de $\\vec F$ nesse ponto. O cosseno cuida da \"inclinação\": se o campo vetorial estiver se\n",
    "movendo na mesma direção da superfície, ele não está empurrando nenhuma partícula através da superfície; nesse caso, $\\cos(\\theta) = \\cos(\\frac{\\pi}{2})=0$ (lembre-se que o \n",
    "vetor normal será perpendicular a $\\vec F$ neste caso). Da mesma forma, se $\\vec F$ estiver se movendo perpendicularmente à superfície, $\\|\\vec F\\| \\|\\hat n\\|$ será multiplicado por $\\cos(0)= 1$, então $\\vec F$ tem tanto efeito quanto pode.\n",
    "É importante obter a orientação da superfície corretamente. A integral representa o fluxo do \"interior\" da superfície para o \"exterior\" - a direção na qual os pontos normais do vetor são considerados \"externos\". Toda vez que você faz uma integral\n",
    "de superfície de um campo vetorial, você deve verificar de que se está usando um vetor normal que aponta na direção correta (que deve ser especificada no problema)."
   ]
  },
  {
   "cell_type": "code",
   "execution_count": 6,
   "metadata": {},
   "outputs": [],
   "source": [
    "import numpy as np\n",
    "arr = np.array([[[1,2],[0,4]]])"
   ]
  },
  {
   "cell_type": "code",
   "execution_count": 7,
   "metadata": {},
   "outputs": [
    {
     "data": {
      "text/plain": [
       "array([[[1, 2],\n",
       "        [0, 4]]])"
      ]
     },
     "execution_count": 7,
     "metadata": {},
     "output_type": "execute_result"
    }
   ],
   "source": [
    "arr"
   ]
  },
  {
   "cell_type": "code",
   "execution_count": 8,
   "metadata": {},
   "outputs": [
    {
     "data": {
      "text/plain": [
       "2"
      ]
     },
     "execution_count": 8,
     "metadata": {},
     "output_type": "execute_result"
    }
   ],
   "source": [
    "arr.argmin()"
   ]
  },
  {
   "cell_type": "code",
   "execution_count": 9,
   "metadata": {},
   "outputs": [
    {
     "data": {
      "text/plain": [
       "(0, 1, 0)"
      ]
     },
     "execution_count": 9,
     "metadata": {},
     "output_type": "execute_result"
    }
   ],
   "source": [
    "np.unravel_index(np.argmin(arr),arr.shape)"
   ]
  },
  {
   "cell_type": "code",
   "execution_count": null,
   "metadata": {},
   "outputs": [],
   "source": []
  }
 ],
 "metadata": {
  "kernelspec": {
   "display_name": "Python 3",
   "language": "python",
   "name": "python3"
  },
  "language_info": {
   "codemirror_mode": {
    "name": "ipython",
    "version": 3
   },
   "file_extension": ".py",
   "mimetype": "text/x-python",
   "name": "python",
   "nbconvert_exporter": "python",
   "pygments_lexer": "ipython3",
   "version": "3.7.8"
  }
 },
 "nbformat": 4,
 "nbformat_minor": 4
}
