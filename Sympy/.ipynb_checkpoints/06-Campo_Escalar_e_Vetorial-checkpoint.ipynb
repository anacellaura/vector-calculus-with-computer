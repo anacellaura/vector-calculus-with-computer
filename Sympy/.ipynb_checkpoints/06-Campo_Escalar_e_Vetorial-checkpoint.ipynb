{
 "cells": [
  {
   "cell_type": "markdown",
   "metadata": {},
   "source": [
    "# Campo Escalar e Vetorial"
   ]
  },
  {
   "cell_type": "markdown",
   "metadata": {},
   "source": [
    "## Preamble"
   ]
  },
  {
   "cell_type": "code",
   "execution_count": null,
   "metadata": {},
   "outputs": [],
   "source": [
    "import av_utils as av\n",
    "import numpy as np\n",
    "import sympy as sp\n",
    "import sympy.vector as sv\n",
    "import plotly.graph_objects as go\n",
    "from sympy.plotting.plot import plot3d, plot3d_parametric_line, plot3d_parametric_surface, plot_parametric\n",
    "import matplotlib.pyplot as plt"
   ]
  },
  {
   "cell_type": "markdown",
   "metadata": {},
   "source": [
    "Preparandndo o ambiente de plotagem"
   ]
  },
  {
   "cell_type": "code",
   "execution_count": null,
   "metadata": {},
   "outputs": [],
   "source": [
    "sp.init_printing()"
   ]
  },
  {
   "cell_type": "markdown",
   "metadata": {},
   "source": [
    "Definir algumas variaveis para usar"
   ]
  },
  {
   "cell_type": "code",
   "execution_count": null,
   "metadata": {},
   "outputs": [],
   "source": [
    "x,y,z,t,s,u,v, phi, theta = sp.symbols('x y z t s u v phi theta',real=True)"
   ]
  },
  {
   "cell_type": "markdown",
   "metadata": {},
   "source": [
    "Definir um sistema de coordenadas"
   ]
  },
  {
   "cell_type": "code",
   "execution_count": null,
   "metadata": {},
   "outputs": [],
   "source": [
    "R = sv.CoordSys3D('R')"
   ]
  },
  {
   "cell_type": "markdown",
   "metadata": {},
   "source": [
    "## Campo Escalar"
   ]
  },
  {
   "cell_type": "markdown",
   "metadata": {},
   "source": [
    "Um exemplo clássico de campo escalar é o campo de temperatura, $T(x,y,z)$. Para cada ponto do espaço associamos um valor numérico que representa a temperatura naquele ponto. Por exemplo: $T(2,0,-1)=22.1$, isso significa que a temperatura no ponto $(2,0,-1)$ é igual 22.1. O conceito de campo escalar é relacionado com o valor numérico que a função gera, perante do campo vetorial que gera um vetor para cada ponto do espaço. Vamos estudar o campo vetorial na próxima seção. Para visualizar um campo escalar podemos utilizar o objeto *density_contour* no Plotly. \n",
    "Vamos imaginar que a temperatura de um plano metálico é descrito por a função $T(x,y)=\\frac{1}{sin(x) sin(y) +2}$. Presta atenção que essa equação é a mesma equação de uma superficie 3D! No fundo, um campo escalar 2D, $T(x,y)$ é a projeção de uma superficie $z = T(x,y)$ no plano $xOy$. Então um campo scalar pode ser implementada igual uma superficie"
   ]
  },
  {
   "cell_type": "code",
   "execution_count": null,
   "metadata": {},
   "outputs": [],
   "source": [
    "def scalar_field(x,y): return 1/(sp.sin(x) * sp.cos(y)+2)"
   ]
  },
  {
   "cell_type": "markdown",
   "metadata": {},
   "source": [
    "Por exemplo, o valor deste campo no ponto (2,3) é"
   ]
  },
  {
   "cell_type": "code",
   "execution_count": null,
   "metadata": {
    "scrolled": true
   },
   "outputs": [],
   "source": [
    "scalar_field(2,3)"
   ]
  },
  {
   "cell_type": "markdown",
   "metadata": {},
   "source": [
    "E o seu valor numerico é "
   ]
  },
  {
   "cell_type": "code",
   "execution_count": null,
   "metadata": {},
   "outputs": [],
   "source": [
    "sp.N(scalar_field(2,3))"
   ]
  },
  {
   "cell_type": "markdown",
   "metadata": {},
   "source": [
    "Para visualizar esse campo temos que fazer alguns passos, muito parecidos com a visualização das curvas"
   ]
  },
  {
   "cell_type": "code",
   "execution_count": null,
   "metadata": {},
   "outputs": [],
   "source": [
    "scalar_field_np = sp.lambdify([x,y],scalar_field(x,y))"
   ]
  },
  {
   "cell_type": "markdown",
   "metadata": {},
   "source": [
    "Só para testar se a função foi transformado corretamente do Sympy para Numpy"
   ]
  },
  {
   "cell_type": "code",
   "execution_count": null,
   "metadata": {},
   "outputs": [],
   "source": [
    "scalar_field_np(2,3)"
   ]
  },
  {
   "cell_type": "markdown",
   "metadata": {},
   "source": [
    "O proximp passo sera produzir dois conjuntos de pontos, para x, y e z"
   ]
  },
  {
   "cell_type": "code",
   "execution_count": null,
   "metadata": {},
   "outputs": [],
   "source": [
    "xx, yy = np.mgrid[-5:5:20j, -5:5:20j]\n",
    "zz = scalar_field_np(xx, yy)"
   ]
  },
  {
   "cell_type": "markdown",
   "metadata": {},
   "source": [
    "Vamos dar uma olhada na superficie associada com esse campo"
   ]
  },
  {
   "cell_type": "code",
   "execution_count": null,
   "metadata": {},
   "outputs": [],
   "source": [
    "fig = go.Figure()\n",
    "fig.add_surface(x = xx, y = yy, z = zz)"
   ]
  },
  {
   "cell_type": "code",
   "execution_count": null,
   "metadata": {},
   "outputs": [],
   "source": [
    "fig = go.Figure()\n",
    "fig.add_surface(x = xx, y = yy, z = zz)\n",
    "fig.update_traces(contours_z=dict(show=True, usecolormap=True,\n",
    "                                  highlightcolor=\"limegreen\", project_z=True))"
   ]
  },
  {
   "cell_type": "code",
   "execution_count": null,
   "metadata": {},
   "outputs": [],
   "source": [
    "fig = go.Figure()\n",
    "fig.add_surface(x =np.linspace(-5,5,50), y = np.linspace(-5,5,50), z = zz)\n",
    "fig.update_traces(contours_z=dict(show=True, usecolormap=True,\n",
    "                                  highlightcolor=\"limegreen\", project_z=True))"
   ]
  },
  {
   "cell_type": "markdown",
   "metadata": {},
   "source": [
    "E finalmente a visualização do campo escalar é "
   ]
  },
  {
   "cell_type": "code",
   "execution_count": null,
   "metadata": {},
   "outputs": [],
   "source": [
    "fig = go.Figure()\n",
    "fig.add_heatmap(x =np.linspace(-5,5,21), y = np.linspace(-5,5,21), z= zz, connectgaps=True, zsmooth='best')"
   ]
  },
  {
   "cell_type": "markdown",
   "metadata": {},
   "source": [
    "Comparando as duas plotagens podemos entender melhor a relação entre o campo escalar 2D e o sua superficie associada. "
   ]
  },
  {
   "cell_type": "markdown",
   "metadata": {},
   "source": [
    "Como outro exemplo, imaginem que tem uma fonte térmica de 25 graus no ponto (0,0). Na medida que se afastamos do ponto a temperatura cai. Depende da taxa de caimento da temperatura, uma possível visualização seria  "
   ]
  },
  {
   "cell_type": "code",
   "execution_count": null,
   "metadata": {},
   "outputs": [],
   "source": [
    "def temp(x,y): \n",
    "    return 25 - (x**2 + y**2)"
   ]
  },
  {
   "cell_type": "code",
   "execution_count": null,
   "metadata": {},
   "outputs": [],
   "source": [
    "temp_np = sp.lambdify([x,y],temp(x,y))\n",
    "xx, yy = np.mgrid[-5:5:20j, -5:5:20j]\n",
    "zz = temp_np(xx, yy)\n",
    "fig = go.Figure()\n",
    "fig.add_heatmap(x =np.linspace(-5,5,21), y = np.linspace(-5,5,21), z= zz, connectgaps=True, zsmooth='best')\n",
    "fig.update_layout(yaxis=dict(scaleanchor=\"x\", scaleratio=1))"
   ]
  },
  {
   "cell_type": "markdown",
   "metadata": {},
   "source": [
    "Para facilitar a vida, foi implementada uma função no modulo *av_plot* para plotar os campos escalares."
   ]
  },
  {
   "cell_type": "code",
   "execution_count": null,
   "metadata": {},
   "outputs": [],
   "source": [
    "av.plot_density_function(temp(x,y), (x,-5,5), (y,-5,5))"
   ]
  },
  {
   "cell_type": "code",
   "execution_count": null,
   "metadata": {},
   "outputs": [],
   "source": [
    "av.plot3d_density_function(25-(x**2) - (y**2) - (z**2), (x,-7,7),(y,-7,7),(z,-7,7))"
   ]
  },
  {
   "cell_type": "code",
   "execution_count": null,
   "metadata": {},
   "outputs": [],
   "source": [
    "av.plot3d_density_function(x * x * 0.5 + y * y + z * z * 2, (x,-7,7),(y,-7,7),(z,-7,7))"
   ]
  },
  {
   "cell_type": "markdown",
   "metadata": {},
   "source": [
    "## Campo Vetorial"
   ]
  },
  {
   "cell_type": "markdown",
   "metadata": {},
   "source": [
    "Campo vetorial é uma função que associa um vetor para cada ponto do espaço. Por exemplo, esse campo pode ser o fluxo do vento de um ar-condicionado. Para cada ponto do espaço o vento tem uma velocidade diferente dos outros pontos e essa velocidade é representada com um vetor. Um campo vetorial tem o formato geral\n",
    "$$\n",
    "\\vec F (x,y,z) = P(x,y,z) \\hat i + Q(x,y,z) \\hat j + R(x,y,z) \\hat k\n",
    "$$\n",
    "Em 2D, um exemplo de campo vetorial é $\\vec F(x,y) = -y \\hat i + x \\hat j$. Para ver alguns desses vetores, primeiro temos que definir essa campo, que é uma função, na forma de um vetor."
   ]
  },
  {
   "cell_type": "code",
   "execution_count": null,
   "metadata": {},
   "outputs": [],
   "source": [
    "def field1(x,y): return -y*R.i + x*R.j;"
   ]
  },
  {
   "cell_type": "code",
   "execution_count": null,
   "metadata": {},
   "outputs": [],
   "source": [
    "field1(x,y)"
   ]
  },
  {
   "cell_type": "code",
   "execution_count": null,
   "metadata": {},
   "outputs": [],
   "source": [
    "vectors = []\n",
    "for xx in range(-2,3):\n",
    "    for yy in range(-2,3):\n",
    "        vectors.append(field1(x,y).subs(x,xx).subs(y,yy))"
   ]
  },
  {
   "cell_type": "code",
   "execution_count": null,
   "metadata": {},
   "outputs": [],
   "source": [
    "vectors"
   ]
  },
  {
   "cell_type": "markdown",
   "metadata": {},
   "source": [
    "Uma forma mais elegante (phytonic) de calcular esses vetores é "
   ]
  },
  {
   "cell_type": "code",
   "execution_count": null,
   "metadata": {},
   "outputs": [],
   "source": [
    "vectors = [field1(x,y).subs(x,xx).subs(y,yy) for xx in range(-2,2) for yy in range(-2,2)]"
   ]
  },
  {
   "cell_type": "code",
   "execution_count": null,
   "metadata": {},
   "outputs": [],
   "source": [
    "vectors"
   ]
  },
  {
   "cell_type": "markdown",
   "metadata": {},
   "source": [
    "Para visualizar esse campo temos que plotar esses vetores nos pontos $(x,y)$ que os geraram. Para fazer isso podemos usar a nossa função de *vector* do modulo *av_utils* ou a função interna de *create_quiver*. Primeiro, vamos usar a função interna "
   ]
  },
  {
   "cell_type": "code",
   "execution_count": null,
   "metadata": {},
   "outputs": [],
   "source": [
    "import plotly.figure_factory as ff\n",
    "xx,yy = np.mgrid[-2:3, -2:3]\n",
    "field1_np = sp.lambdify([x,y],tuple(field1(x,y).components.values()))\n",
    "uu , vv = field1_np(xx,yy)\n",
    "\n",
    "fig = ff.create_quiver(xx, yy, uu, vv)\n",
    "fig.update_layout(yaxis=dict(scaleanchor=\"x\", scaleratio=1))\n",
    "fig.show()"
   ]
  },
  {
   "cell_type": "markdown",
   "metadata": {},
   "source": [
    "Agora vamos plotar esse campo vetorial utilizando a função *vector* do modulo *av_utils*"
   ]
  },
  {
   "cell_type": "code",
   "execution_count": null,
   "metadata": {},
   "outputs": [],
   "source": [
    "#seria interessante construir uma versão vetorizada dessa função\n",
    "field1_np = sp.lambdify([x,y],tuple(field1(x,y).components.values()))\n",
    "\n",
    "xx, yy = np.mgrid[-5:5:5j, -5:5:5j]\n",
    "\n",
    "uu,vv = field1_np(xx,yy)\n",
    "\n",
    "av.vector(x=xx.flatten(),y=yy.flatten(), u=uu.flatten(), v=vv.flatten())\n",
    "        \n"
   ]
  },
  {
   "cell_type": "markdown",
   "metadata": {},
   "source": [
    "Um dos campos vetoriais mais conhecidos é o campo gravitacional. O campo gravitacional entre dois objetos massivos de massa M e m localizados nos pontos $\\vec r$ e $\\vec{r}_1$  respetivamente é \n",
    "\n",
    "$$\n",
    "\\begin{align}\n",
    "\\vec F(x,y,z) &= -\\frac{GmM}{|\\vec r - \\vec r_1|^3}\\vec r - \\vec r_1 \\\\\n",
    "&= \\frac{GmM}{\\left((x-x_1)^2+(y-y_1)^2+(z-z_1)^2\\right)^\\frac{3}{2}} \\left((x-x_1)\\hat i+ (y-y_1)\\hat j + (z-z_1)\\hat k \\right).\n",
    "\\end{align}\n",
    "$$\n",
    "Agora, se um dos objetos for na origem do sistema de coordenanadas ($\\vec r_1 = 0$), teremos\n",
    "$$\n",
    "\\begin{align}\n",
    "\\vec F(x,y,z) &= -\\frac{GmM}{|\\vec r|^3}\\vec r \\\\\n",
    "&= \\frac{GmM}{\\left(x^2+y^2+z^2\\right)^\\frac{3}{2}} \\left(x\\hat i+ y\\hat j + z\\hat k \\right).\n",
    "\\end{align}\n",
    "$$\n",
    "Bom, vamos plotar esse campo vetorial em 3D, usando a função interna de *cone* do Plotly. A ideia é esolher alguns pontos do espaço e plotar os vetores associados com esses pontos. Para escolher esses pontos não há um criterio fixo. Podem ser pontos aleatorios ou pontos em uma rede. Aqui vamos optar por numeros aleatorios. "
   ]
  },
  {
   "cell_type": "code",
   "execution_count": null,
   "metadata": {},
   "outputs": [],
   "source": [
    "def gravitation(x,y,z, G=1, m=1, M=10):\n",
    "    return -((G*m*M)/(x**2 + y**2 + z**2)**(3/2))*(x*R.i + y*R.j + z*R.k)"
   ]
  },
  {
   "cell_type": "code",
   "execution_count": null,
   "metadata": {},
   "outputs": [],
   "source": [
    "gravitation(x,y,z)"
   ]
  },
  {
   "cell_type": "code",
   "execution_count": null,
   "metadata": {},
   "outputs": [],
   "source": [
    "x,y,z = sp.symbols('x y z')"
   ]
  },
  {
   "cell_type": "code",
   "execution_count": null,
   "metadata": {},
   "outputs": [],
   "source": [
    "xx, yy, zz = np.meshgrid(np.random.uniform(-0.8,1,15),\n",
    "                      np.random.uniform(-0.8,1,15),\n",
    "                      np.random.uniform(-0.8,1,15))\n",
    "\n",
    "\n",
    "\n",
    "gravitation_np = sp.lambdify([x,y,z],tuple(gravitation(x,y,z).components.values()))\n",
    "\n",
    "u,v,w = gravitation_np(xx,yy,zz)"
   ]
  },
  {
   "cell_type": "markdown",
   "metadata": {},
   "source": [
    "Para usar a função *cone* precisamos inserir os pontos e os componentes dos vetores na forma de vetor, não matriz ou tensor. Então temos que \"achatar\" os tensores acima usando o comando *flatten()* do Numpy. Para facilitar a vida vamos definir uma função que faça isso para todos os nossos objetos"
   ]
  },
  {
   "cell_type": "code",
   "execution_count": null,
   "metadata": {},
   "outputs": [],
   "source": [
    "def flatten_vf(x, y, z, u, v, w):\n",
    "    return x.flatten(), y.flatten(), z.flatten(), u.flatten(), v.flatten(), w.flatten()"
   ]
  },
  {
   "cell_type": "code",
   "execution_count": null,
   "metadata": {},
   "outputs": [],
   "source": [
    "xx,yy,zz,u,v,w = flatten_vf(xx,yy,zz,u,v,w)"
   ]
  },
  {
   "cell_type": "markdown",
   "metadata": {},
   "source": [
    "Agora podemos plotar o campo vetorial"
   ]
  },
  {
   "cell_type": "code",
   "execution_count": null,
   "metadata": {},
   "outputs": [],
   "source": [
    "fig = go.Figure()\n",
    "fig.add_cone(x= xx,y = yy,z = zz,u = u,v = v,w = w, colorscale='Blues',\n",
    "    sizemode=\"scaled\", sizeref = 1)"
   ]
  },
  {
   "cell_type": "markdown",
   "metadata": {},
   "source": [
    "**We are in trouble!** Os vetores perto da origem ficam muito grandes e praticamente dominam o grafico! Esse problema é entendivel. perto da origem, perto do ponto (0,0,0), a gente está fazendo divisão por zero para calcular a força gravitacional. Uma tentativa para burlar esse problema é tentar para plotar os vetores do campo, com um certo distancia da origem "
   ]
  },
  {
   "cell_type": "code",
   "execution_count": null,
   "metadata": {},
   "outputs": [],
   "source": [
    "r1x,r2x = np.random.randint(-20,-1,10), np.random.randint(1,20,10)\n",
    "r1y,r2y = np.random.randint(-20,-1,10), np.random.randint(1,20,10)\n",
    "r1z,r2z = np.random.randint(-20,-1,10), np.random.randint(1,20,10)\n",
    "\n",
    "# Here we concatenate the arrays one after the other one \n",
    "rx = np.hstack([r1x,r2x])\n",
    "ry = np.hstack([r1y,r2y])\n",
    "rz = np.hstack([r1z,r2z])"
   ]
  },
  {
   "cell_type": "markdown",
   "metadata": {},
   "source": [
    "Constructing the mesh"
   ]
  },
  {
   "cell_type": "code",
   "execution_count": null,
   "metadata": {},
   "outputs": [],
   "source": [
    "xx,yy,zz = np.meshgrid(rx,ry,rz)"
   ]
  },
  {
   "cell_type": "markdown",
   "metadata": {},
   "source": [
    "O resto do procedimento continua igual"
   ]
  },
  {
   "cell_type": "code",
   "execution_count": null,
   "metadata": {},
   "outputs": [],
   "source": [
    "gravitation_np = sp.lambdify([x,y,z],tuple(gravitation(x,y,z).components.values()))\n",
    "\n",
    "u,v,w = gravitation_np(xx,yy,zz)"
   ]
  },
  {
   "cell_type": "code",
   "execution_count": null,
   "metadata": {},
   "outputs": [],
   "source": [
    "xx,yy,zz,u,v,w = flatten_vf(xx,yy,zz,u,v,w)"
   ]
  },
  {
   "cell_type": "code",
   "execution_count": null,
   "metadata": {
    "scrolled": true
   },
   "outputs": [],
   "source": [
    "fig = go.Figure()\n",
    "fig.add_cone(x= xx,y = yy,z = zz,u = u,v = v,w = w, colorscale='Blues',\n",
    "    sizemode=\"scaled\", sizeref = 1)"
   ]
  },
  {
   "cell_type": "markdown",
   "metadata": {},
   "source": [
    "Tem uma função chamada *plot3d_vector_field* no modulo *av_utils* que automatiza esse procedimento."
   ]
  },
  {
   "cell_type": "code",
   "execution_count": null,
   "metadata": {},
   "outputs": [],
   "source": [
    "av.plot3d_vector_field(gravitation(x,y,z),(x,-15,15),(y,-15,15),(z,-15,15), points=40)"
   ]
  },
  {
   "cell_type": "code",
   "execution_count": null,
   "metadata": {},
   "outputs": [],
   "source": []
  }
 ],
 "metadata": {
  "kernelspec": {
   "display_name": "Python 3",
   "language": "python",
   "name": "python3"
  },
  "language_info": {
   "codemirror_mode": {
    "name": "ipython",
    "version": 3
   },
   "file_extension": ".py",
   "mimetype": "text/x-python",
   "name": "python",
   "nbconvert_exporter": "python",
   "pygments_lexer": "ipython3",
   "version": "3.7.8"
  },
  "toc": {
   "base_numbering": 1,
   "nav_menu": {},
   "number_sections": true,
   "sideBar": true,
   "skip_h1_title": false,
   "title_cell": "Table of Contents",
   "title_sidebar": "Contents",
   "toc_cell": false,
   "toc_position": {},
   "toc_section_display": true,
   "toc_window_display": false
  },
  "varInspector": {
   "cols": {
    "lenName": 16,
    "lenType": 16,
    "lenVar": 40
   },
   "kernels_config": {
    "python": {
     "delete_cmd_postfix": "",
     "delete_cmd_prefix": "del ",
     "library": "var_list.py",
     "varRefreshCmd": "print(var_dic_list())"
    },
    "r": {
     "delete_cmd_postfix": ") ",
     "delete_cmd_prefix": "rm(",
     "library": "var_list.r",
     "varRefreshCmd": "cat(var_dic_list()) "
    }
   },
   "types_to_exclude": [
    "module",
    "function",
    "builtin_function_or_method",
    "instance",
    "_Feature"
   ],
   "window_display": false
  }
 },
 "nbformat": 4,
 "nbformat_minor": 4
}
