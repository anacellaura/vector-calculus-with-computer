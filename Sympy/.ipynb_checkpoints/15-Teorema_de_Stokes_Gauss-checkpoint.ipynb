{
 "cells": [
  {
   "cell_type": "markdown",
   "metadata": {},
   "source": [
    "# Teorema de Divergente (Gauss)\n",
    "\n",
    "o Teorema do Divergente liga integrais de superfície de campos de vetores a triplas integrais através da divergência.\n",
    "\n",
    "**Teorema:**\n",
    "\n",
    "Seja E uma região sólida simples e seja S a superfície fronteira de E, orientada positivamente (para fora). Seja $\\vec F$ um campo vetorial cujas funções componentes tenham derivadas parciais continuas em uma região aberta que contenha E. Então\n",
    "$$\n",
    "\\iint_S \\vec F \\cdot \\text{d} \\vec S = \\iiint_E \\text{div} \\vec F \\; \\text{d}V\n",
    "$$\n",
    "Portanto, o Teorema do Divergente afirma que, sob as condições dadas, o fluxo de $\\vec F$ pela fronteira de E é igual à integral tripla da divergência de $\\vec F$ em E."
   ]
  },
  {
   "cell_type": "markdown",
   "metadata": {},
   "source": [
    "## Preamble"
   ]
  },
  {
   "cell_type": "code",
   "execution_count": 10,
   "metadata": {},
   "outputs": [],
   "source": [
    "import sympy as sp\n",
    "import numpy as np\n",
    "import sympy.vector as sv\n",
    "import plotly.graph_objects as go\n",
    "import pandas as pd\n",
    "import av_utils as av\n",
    "\n",
    "\n",
    "sp.init_printing()\n",
    "\n",
    "R = sv.CoordSys3D('R')\n",
    "\n",
    "t,s,x,y,z, rho, theta, phi,r = sp.symbols('t s x y z rho theta phi r', real=True)"
   ]
  },
  {
   "cell_type": "markdown",
   "metadata": {},
   "source": [
    "## Exemplo: \n",
    "\n",
    "Determine o fluxo do campo vetorial $\\vec F(x,y,z) = z \\hat i + y \\hat j + x \\hat k$ sobre a unidade esferica $x^2 + y^2 + z^2 = 1$\n",
    "\n",
    "**Solução:**\n",
    "\n",
    "Primeiro calculamos o divergente do campo vetoril $\\vec F$"
   ]
  },
  {
   "cell_type": "code",
   "execution_count": 2,
   "metadata": {},
   "outputs": [],
   "source": [
    "def field(x,y,z):\n",
    "    return z*R.i + y*R.j + x*R.k"
   ]
  },
  {
   "cell_type": "code",
   "execution_count": 4,
   "metadata": {},
   "outputs": [
    {
     "data": {
      "image/png": "[encoded data removed]",
      "text/latex": [
       "$\\displaystyle 1$"
      ],
      "text/plain": [
       "1"
      ]
     },
     "execution_count": 4,
     "metadata": {},
     "output_type": "execute_result"
    }
   ],
   "source": [
    "div = av.divergence(field(x,y,z), (x,y,z));\n",
    "\n",
    "div"
   ]
  },
  {
   "cell_type": "markdown",
   "metadata": {},
   "source": [
    "A esfera unitária S é a fronteira da bola unitária B dada por $x^2 + y^2 + z^2 = 1$. Então o teorema de Gauss dá o fluxo como\n",
    "$$\n",
    "\\iint_S \\vec F \\cdot \\text{d}\\vec S = \\iiint_B \\text{div}\\vec F \\; \\text{d}V = \\iiint_B 1 \\text{d}V = \\frac{4 \\pi}{3} (1)^3\n",
    "$$\n",
    "\n",
    "A integral acima podia ser resolvida no Sympy na seguinte forma. "
   ]
  },
  {
   "cell_type": "code",
   "execution_count": 7,
   "metadata": {},
   "outputs": [
    {
     "data": {
      "image/png": "[encoded data removed]",
      "text/latex": [
       "$\\displaystyle (\\sin{\\left(\\phi \\right)} \\cos{\\left(\\theta \\right)})\\mathbf{\\hat{i}_{R}} + (\\sin{\\left(\\phi \\right)} \\sin{\\left(\\theta \\right)})\\mathbf{\\hat{j}_{R}} + (\\cos{\\left(\\phi \\right)})\\mathbf{\\hat{k}_{R}}$"
      ],
      "text/plain": [
       "(sin(φ)⋅cos(θ)) i_R + (sin(φ)⋅sin(θ)) j_R + (cos(φ)) k_R"
      ]
     },
     "execution_count": 7,
     "metadata": {},
     "output_type": "execute_result"
    }
   ],
   "source": [
    "def sphere(theta, phi):\n",
    "    rx = sp.cos(theta)*sp.sin(phi)*R.i\n",
    "    ry = sp.sin(theta)*sp.sin(phi)*R.j\n",
    "    rz = sp.cos(phi)*R.k\n",
    "    return rx+ry+rz\n",
    "\n",
    "sphere(theta,phi)"
   ]
  },
  {
   "cell_type": "code",
   "execution_count": 14,
   "metadata": {},
   "outputs": [
    {
     "data": {
      "image/png": "[encoded data removed]",
      "text/latex": [
       "$\\displaystyle \\frac{4 \\pi}{3}$"
      ],
      "text/plain": [
       "4⋅π\n",
       "───\n",
       " 3 "
      ]
     },
     "execution_count": 14,
     "metadata": {},
     "output_type": "execute_result"
    }
   ],
   "source": [
    "sp.integrate(div*(r**2)*sp.sin(phi), (theta,0,2*sp.pi),(phi,0,sp.pi),(r,0,1))"
   ]
  },
  {
   "cell_type": "markdown",
   "metadata": {},
   "source": [
    "## Elemento de volume\n",
    "\n",
    "Elemento de volume em sistema de coordenadas cartesianas,\n",
    "cilíndricas e esféricas são\n",
    "\n",
    "- cartesiana: $\\text{d}V = \\text{d}x\\text{d}y\\text{d}z$\n",
    "- cilindrica: $\\text{d}V = \\rho \\text{d}\\rho\\text{d}\\theta\\text{d}z$\n",
    "- esferica: $\\text{d}V = r^2 \\sin(\\phi)\\text{d}r \\text{d}\\theta \\text{d}\\phi$"
   ]
  },
  {
   "cell_type": "markdown",
   "metadata": {},
   "source": [
    "## Exemplo:\n",
    "\n",
    "Utilize o teorema de Gauss para calcular $\\iint_S \\vec F \\cdot \\text{d}\\vec S$, onde $\\vec F(x,y,z) = x y \\hat i + (y^2 + \\text{e}^{x z^2}) \\hat j + \\sin(x y) \\hat k$ e $S$ é a superficie da região $E$ delimitada pelo cilindro parabolico $z=1-x^2$ e os planos $z=0$, $y=0$ e $y+z=2$.\n",
    "\n",
    "**Solução:**\n",
    "\n"
   ]
  },
  {
   "cell_type": "code",
   "execution_count": null,
   "metadata": {},
   "outputs": [],
   "source": []
  }
 ],
 "metadata": {
  "kernelspec": {
   "display_name": "Python 3",
   "language": "python",
   "name": "python3"
  },
  "language_info": {
   "codemirror_mode": {
    "name": "ipython",
    "version": 3
   },
   "file_extension": ".py",
   "mimetype": "text/x-python",
   "name": "python",
   "nbconvert_exporter": "python",
   "pygments_lexer": "ipython3",
   "version": "3.7.8"
  }
 },
 "nbformat": 4,
 "nbformat_minor": 4
}
